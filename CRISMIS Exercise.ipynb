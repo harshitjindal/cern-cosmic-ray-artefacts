{
 "cells": [
  {
   "cell_type": "code",
   "execution_count": 53,
   "metadata": {},
   "outputs": [],
   "source": [
    "from bs4 import BeautifulSoup\n",
    "import requests"
   ]
  },
  {
   "cell_type": "code",
   "execution_count": 54,
   "metadata": {},
   "outputs": [],
   "source": [
    "def generate_url(year, DOY):\n",
    "    url = 'https://pdsimage2.wr.usgs.gov/archive/mess-e_v_h-mdis-2-edr-rawdata-v1.0/MSGRMDS_1001/DATA/{}_{}'.format(str(year), str(DOY))\n",
    "    return url\n",
    "\n",
    "def fetch_all_img_links_from_url(url):\n",
    "    \n",
    "    # create response object and parse with BeautifulSoup\n",
    "    r = requests.get(url)\n",
    "    soup = BeautifulSoup(r.content,'html.parser') \n",
    "\n",
    "    # find all links on web-page \n",
    "    links = soup.findAll('a') \n",
    "\n",
    "    # filter the link sending with .IMG \n",
    "    IMG_Links = [url + link['href'] for link in links if link['href'].endswith('IMG')]\n",
    "\n",
    "    return(IMG_Links)"
   ]
  },
  {
   "cell_type": "code",
   "execution_count": null,
   "metadata": {},
   "outputs": [],
   "source": []
  }
 ],
 "metadata": {
  "kernelspec": {
   "display_name": "Python 3",
   "language": "python",
   "name": "python3"
  },
  "language_info": {
   "codemirror_mode": {
    "name": "ipython",
    "version": 3
   },
   "file_extension": ".py",
   "mimetype": "text/x-python",
   "name": "python",
   "nbconvert_exporter": "python",
   "pygments_lexer": "ipython3",
   "version": "3.7.6"
  }
 },
 "nbformat": 4,
 "nbformat_minor": 2
}
